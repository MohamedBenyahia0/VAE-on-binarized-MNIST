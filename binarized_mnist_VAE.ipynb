{
  "cells": [
    {
      "cell_type": "markdown",
      "metadata": {
        "id": "3tyYDKlcqkBE"
      },
      "source": [
        "# MVA: basic VAE in Pytorch"
      ]
    },
    {
      "cell_type": "markdown",
      "metadata": {
        "id": "9B30ONxejRn-"
      },
      "source": [
        "Here, we'll look at the basics of a deep latent variational model, implemented in Pytorch. I won't be using a GPU, because I won't be training the model, but you may want to use one to train it."
      ]
    },
    {
      "cell_type": "markdown",
      "metadata": {
        "id": "z3sguCcpg2Yw"
      },
      "source": [
        "# Loading useful stuff"
      ]
    },
    {
      "cell_type": "code",
      "execution_count": 1,
      "metadata": {
        "id": "xMPYV_R2ghyx"
      },
      "outputs": [],
      "source": [
        "import numpy as np\n",
        "import matplotlib.pyplot as plt\n",
        "import torch\n",
        "import torch.nn as nn\n",
        "import torch.distributions as td\n",
        "import torch.nn.functional as F\n",
        "from tqdm.notebook import tqdm"
      ]
    },
    {
      "cell_type": "markdown",
      "metadata": {
        "id": "h58v-MfihGen"
      },
      "source": [
        "# Loading Larochelle's binary MNIST"
      ]
    },
    {
      "cell_type": "code",
      "execution_count": 2,
      "metadata": {
        "id": "1sTryqQpguSj"
      },
      "outputs": [],
      "source": [
        "xtrain = np.loadtxt('http://www.cs.toronto.edu/~larocheh/public/datasets/binarized_mnist/binarized_mnist_train.amat',dtype=np.float32).reshape(-1,28, 28,order='C')\n",
        "xvalid = np.loadtxt('http://www.cs.toronto.edu/~larocheh/public/datasets/binarized_mnist/binarized_mnist_valid.amat',dtype=np.float32).reshape(-1,28, 28,order='C')\n",
        "xtest = np.loadtxt('http://www.cs.toronto.edu/~larocheh/public/datasets/binarized_mnist/binarized_mnist_test.amat',dtype=np.float32).reshape(-1,28, 28,order='C')\n",
        "\n",
        "p = 784\n",
        "n = xtrain.shape[0]\n",
        "ntest = xtest.shape[0]\n",
        "\n",
        "xtrain = xtrain.reshape((-1,p))\n",
        "xvalid = xvalid.reshape((-1,p))\n",
        "xtest = xtest.reshape((-1,p))"
      ]
    },
    {
      "cell_type": "code",
      "execution_count": 3,
      "metadata": {
        "colab": {
          "base_uri": "https://localhost:8080/",
          "height": 406
        },
        "id": "xP-RnOcwjIUK",
        "outputId": "3a33b27c-da22-424b-fdb1-d1e4f7196a9e"
      },
      "outputs": [
        {
          "output_type": "display_data",
          "data": {
            "text/plain": [
              "<Figure size 640x480 with 1 Axes>"
            ],
            "image/png": "[encoded data removed]"
          },
          "metadata": {}
        }
      ],
      "source": [
        "plt.imshow(xtrain[0:5, :].reshape((28*5,28)), cmap='gray')\n",
        "plt.axis('off')\n",
        "plt.show()"
      ]
    },
    {
      "cell_type": "markdown",
      "metadata": {
        "id": "cybWUmUGMNqH"
      },
      "source": [
        "# Specifying our graphical model"
      ]
    },
    {
      "cell_type": "markdown",
      "metadata": {
        "id": "x_SffkK9GaRh"
      },
      "source": [
        "We will use a **deep latent variable model with a Gaussian prior and a Bernoulli observation model**. This can be written:\n",
        "\n",
        "$$p_{\\boldsymbol{\\theta}}(\\mathbf{x}_1,...,\\mathbf{x}_n) = \\prod_{i=1}^n p_{\\boldsymbol{\\theta}}(\\mathbf{x}_i|\\mathbf{z}_i)p(\\mathbf{z}_i),$$\n",
        "$$p(\\mathbf{z}_i) = \\mathcal{N}(\\mathbf{z}_i|\\mathbf{0}_d,\\mathbf{I}_d), $$\n",
        "$$p_{\\boldsymbol{\\theta}}(\\mathbf{x}_i|\\mathbf{z}_i) = \\mathcal{B} (\\mathbf{x}_i|\\boldsymbol{\\pi}_{\\boldsymbol{\\theta}}(\\mathbf{z}_i)) = \\prod_{j=1}^{28 \\times 28} \\mathcal{B} (\\mathbf{x}_{ij}|[\\boldsymbol{\\pi}_{\\boldsymbol{\\theta}}(\\mathbf{z}_i)]_j),$$\n",
        "\n",
        "where $\\boldsymbol{\\pi}_{\\boldsymbol{\\theta}}: \\mathbb{R}^d \\rightarrow {[0,1]}^p$ is a function (called the **decoder**) parametrised by a deep neural net. This neural net will be defined as a Pytorch sequential model."
      ]
    },
    {
      "cell_type": "code",
      "execution_count": 4,
      "metadata": {
        "id": "LdIQhO9ZMLsD"
      },
      "outputs": [],
      "source": [
        "d = 16 # dimension of the latent space\n",
        "\n",
        "p_z = td.Independent(td.Normal(loc = torch.zeros(d), scale = torch.ones(d)),reinterpreted_batch_ndims=1)  # that's the prior"
      ]
    },
    {
      "cell_type": "code",
      "execution_count": 5,
      "metadata": {
        "id": "x1hb-6ysMLvO"
      },
      "outputs": [],
      "source": [
        "num_hidden = 50\n",
        "\n",
        "decoder = nn.Sequential(\n",
        "            nn.Linear(d, num_hidden),\n",
        "            nn.ReLU(),\n",
        "            nn.Linear(num_hidden, num_hidden),\n",
        "            nn.ReLU(),\n",
        "            nn.Linear(num_hidden, 784)\n",
        "    )"
      ]
    },
    {
      "cell_type": "markdown",
      "metadata": {
        "id": "BZkgqqw2J32a"
      },
      "source": [
        "Note that **the decoder needs to output probabilities**, which can be constrained using a sigmoid final layer. However, it is generally better (i.e. computationnaly more stable) to work with [logits](https://stackoverflow.com/questions/34240703/what-are-logits-what-is-the-difference-between-softmax-and-softmax-cross-entrop) than probabilities, when doing deep learning. For instance, all the distributions of TensorFlow probability or Pytorch distributions that use probabilities as parameters (e.g. [Bernoulli](https://www.tensorflow.org/probability/api_docs/python/tfp/distributions/Bernoulli), [categorical](https://www.tensorflow.org/probability/api_docs/python/tfp/distributions/Categorical) or [binomial](https://www.tensorflow.org/probability/api_docs/python/tfp/distributions/Binomial)) can use $\\texttt{logits}$ or $\\texttt{probs}$ as arguments. It is generally better to use  $\\texttt{logits}$. This is why this keras model for the decoder does not output probabilities, but logits.\n",
        "\n",
        "\n",
        "\n"
      ]
    },
    {
      "cell_type": "markdown",
      "metadata": {
        "id": "RjYF8iJ7c7aw"
      },
      "source": [
        "# Ancestral sampling"
      ]
    },
    {
      "cell_type": "markdown",
      "metadata": {
        "id": "9em96GeFy-GD"
      },
      "source": [
        "Let us implement ancestral sampling for our simple, two-node graphical model!"
      ]
    },
    {
      "cell_type": "code",
      "execution_count": 6,
      "metadata": {
        "id": "G9wMzP-Dc9d7"
      },
      "outputs": [],
      "source": [
        "z_samples = p_z.sample((5,))\n",
        "p_xgivenz = td.Independent(td.Bernoulli(logits = decoder(z_samples)), reinterpreted_batch_ndims = 1)\n",
        "x_samples = p_xgivenz.sample((1,))"
      ]
    },
    {
      "cell_type": "code",
      "execution_count": 7,
      "metadata": {
        "colab": {
          "base_uri": "https://localhost:8080/",
          "height": 406
        },
        "id": "DjMXFN-2fL_c",
        "outputId": "9ef4b437-8159-4654-fde0-039be9201782"
      },
      "outputs": [
        {
          "output_type": "display_data",
          "data": {
            "text/plain": [
              "<Figure size 640x480 with 1 Axes>"
            ],
            "image/png": "[encoded data removed]"
          },
          "metadata": {}
        }
      ],
      "source": [
        "plt.imshow(x_samples.numpy().reshape((28*5,28)), cmap='gray')\n",
        "plt.axis('off')\n",
        "plt.show()"
      ]
    },
    {
      "cell_type": "markdown",
      "metadata": {
        "id": "Swqz4zq0HxHe"
      },
      "source": [
        "Of course, the samples look like rubbish, because the model is untrained..."
      ]
    },
    {
      "cell_type": "markdown",
      "metadata": {
        "id": "z3HIWw5hNSun"
      },
      "source": [
        "## Encoder"
      ]
    },
    {
      "cell_type": "markdown",
      "metadata": {
        "id": "uC62wDDvHIsb"
      },
      "source": [
        "To be able to train our model, we will need an **encoder** (aka **inference network**), that will allow us to approximate the intractable posterior $p(\\mathbf{z}|\\mathbf{x})$.\n",
        "The approximate posterior is defined as follows\n",
        "$$ q_\\boldsymbol{\\gamma}(\\mathbf{z}|\\mathbf{x}) = \\mathcal{N}(\\mathbf{z} | \\mathbf{m}_\\boldsymbol{\\gamma} ( \\mathbf{x} ), \\text{Diag}(\\mathbf{s}_\\boldsymbol{\\gamma} ( \\mathbf{x} )),\n",
        "$$\n",
        "where $\\mathbf{x} \\mapsto (\\mathbf{m}_\\boldsymbol{\\gamma} ( \\mathbf{x} ), \\mathbf{s}_\\boldsymbol{\\gamma} ( \\mathbf{x} ))$ is a function from the data space (i.e. $\\{0,1\\}^p$) to $\\mathbb{R}^d \\times [0, \\infty[^d$ parametrised by a deep neural network. In other words, **the encoder outputs the mean and the diagonal of the covariance matrix of proposal (aka approximate posterior) $q_\\boldsymbol{\\gamma}(\\mathbf{z}|\\mathbf{x})$.**"
      ]
    },
    {
      "cell_type": "code",
      "execution_count": 8,
      "metadata": {
        "id": "mQFCFP4GMLxx"
      },
      "outputs": [],
      "source": [
        "encoder = nn.Sequential(\n",
        "            nn.Flatten(), # we flatten the images into vectors\n",
        "            nn.Linear(784, num_hidden),\n",
        "            nn.ReLU(),\n",
        "            nn.Linear(num_hidden, num_hidden),\n",
        "            nn.ReLU(),\n",
        "            nn.Linear(num_hidden, d*2) # d*2 because we output both the mean of q and the diagonal of the covariance\n",
        "    )"
      ]
    },
    {
      "cell_type": "markdown",
      "metadata": {
        "id": "-LjaS010w-WA"
      },
      "source": [
        "Let us now see how to sample from this approximate posterior. For instance, let us take a batch of images $x_1,\\ldots,x_{n_B}$, and create the distributions $q_\\boldsymbol{\\gamma}(\\mathbf{z}|\\mathbf{x}_1),\\ldots, q_\\boldsymbol{\\gamma}(\\mathbf{z}|\\mathbf{x}_{n_B})$."
      ]
    },
    {
      "cell_type": "code",
      "execution_count": 9,
      "metadata": {
        "id": "2MjM57qur6Sq"
      },
      "outputs": [],
      "source": [
        "batch = torch.tensor(xtrain[:10,:])\n",
        "\n",
        "encoded_batch = encoder(batch)\n",
        "\n",
        "mu_q = encoded_batch[:,:d]\n",
        "sigma_q = nn.Softplus()(encoded_batch[:,d:])\n",
        "\n",
        "q_zgivenx = td.Independent(td.Normal(loc = mu_q, scale = sigma_q) ,reinterpreted_batch_ndims=1)"
      ]
    },
    {
      "cell_type": "markdown",
      "metadata": {
        "id": "YzastTadxgPX"
      },
      "source": [
        "We can now sample from the approximate posterior!"
      ]
    },
    {
      "cell_type": "code",
      "execution_count": 10,
      "metadata": {
        "id": "jXp3Wc1Dw7s0"
      },
      "outputs": [],
      "source": [
        "K=5\n",
        "z_sample = q_zgivenx.sample((K,))"
      ]
    },
    {
      "cell_type": "code",
      "execution_count": 11,
      "metadata": {
        "id": "Bn9PC0azw7vU"
      },
      "outputs": [],
      "source": [
        "z_sample_reparametrised = q_zgivenx.rsample((K,))"
      ]
    },
    {
      "cell_type": "markdown",
      "metadata": {
        "id": "CmWlBaQSx2fx"
      },
      "source": [
        "Try to use this to train a VAE! Note that you will need reparametrised samples to compute the gradients wrt the encoder, so do not forget to use $\\texttt{rsample}$ while training!"
      ]
    },
    {
      "cell_type": "markdown",
      "metadata": {
        "id": "fH-xr8aPyEg5"
      },
      "source": [
        "## Computing (an estimate of) the IWAE $\\mathcal{L}_K$ bound"
      ]
    },
    {
      "cell_type": "markdown",
      "metadata": {
        "id": "ACsvdSYXoSU1"
      },
      "source": [
        "First, we will see how to compute an unbiased estimate of the IWAE bound $\\mathcal{L}_K$. It is defined as $$\\mathcal{L}_K = \\mathbb{E} \\left[ \\frac{1}{n}\\sum_{i=1}^n  \\log \\left( \\frac{1}{K} \\sum_{k=1}^K \\frac{p(x_i |z_{ik}) p(z_{ik})}{q_i(z_{ik})}\\right) \\right].$$\n",
        "\n",
        "The standard way to do so is just to sample $z_{i1}, \\ldots, z_{iK} \\sim q(z |x_i)$ for each data point $i$, and then do a Monte Carlo estimate of the expectation. The estimate is then simply\n",
        "$$\\mathcal{L}_K \\approx\\frac{1}{n} \\sum_{i=1}^n  \\log \\left( \\frac{1}{K} \\sum_{k=1}^K \\frac{p(x_i |z_{ik}) p(z_{ik})}{q_i(z_{ik})}\\right).$$\n",
        "\n",
        "An efficient way to compute this is using the [logsumexp trick](https://en.wikipedia.org/wiki/LogSumExp), readily implemented in Pytorch via $\\texttt{torch.logsumexp}$"
      ]
    },
    {
      "cell_type": "code",
      "execution_count": 15,
      "metadata": {
        "colab": {
          "base_uri": "https://localhost:8080/"
        },
        "id": "512HetjkoSU2",
        "outputId": "0352de57-1caa-474f-9964-6bffa194993c"
      },
      "outputs": [
        {
          "output_type": "stream",
          "name": "stdout",
          "text": [
            "-542.51984\n"
          ]
        }
      ],
      "source": [
        "K = 50\n",
        "\n",
        "batch = torch.tensor(xtrain[:10,:])\n",
        "\n",
        "encoded_batch = encoder(batch)\n",
        "\n",
        "mu_q = encoded_batch[:,:d]\n",
        "sigma_q = nn.Softplus()(encoded_batch[:,d:])\n",
        "\n",
        "q_zgivenx = td.Independent(td.Normal(loc = mu_q, scale = sigma_q) ,reinterpreted_batch_ndims=1)\n",
        "\n",
        "z = q_zgivenx.rsample((K,)) # rsample is necessary to train properly the model, but to evaluate the bound, it won't make a difference\n",
        "\n",
        "p_xgivenz = td.Independent(td.Bernoulli(logits = decoder(z)), reinterpreted_batch_ndims = 1)\n",
        "\n",
        "log_weights = p_xgivenz.log_prob(batch) + p_z.log_prob(z) - q_zgivenx.log_prob(z)\n",
        "\n",
        "iwae_bound = torch.mean(torch.logsumexp(log_weights,0) - torch.log(torch.tensor(K)))\n",
        "print(iwae_bound.detach().numpy())"
      ]
    },
    {
      "cell_type": "markdown",
      "metadata": {
        "id": "u2h0HirgoSU2"
      },
      "source": [
        "One can see that there is a significant amount of randomness. We can also check that the bound is getting higher with more samples"
      ]
    },
    {
      "cell_type": "code",
      "execution_count": 16,
      "metadata": {
        "colab": {
          "base_uri": "https://localhost:8080/"
        },
        "id": "OYe2Kb5CoSU2",
        "outputId": "0d73f687-6738-4ee7-99dd-811077f30dd5"
      },
      "outputs": [
        {
          "output_type": "stream",
          "name": "stdout",
          "text": [
            "-542.21423\n"
          ]
        }
      ],
      "source": [
        "K = 50\n",
        "\n",
        "batch = torch.tensor(xtrain[:10,:])\n",
        "\n",
        "encoded_batch = encoder(batch)\n",
        "\n",
        "mu_q = encoded_batch[:,:d]\n",
        "sigma_q = nn.Softplus()(encoded_batch[:,d:])\n",
        "\n",
        "q_zgivenx = td.Independent(td.Normal(loc = mu_q, scale = sigma_q) ,reinterpreted_batch_ndims=1)\n",
        "\n",
        "z = q_zgivenx.rsample((K,)) # rsample is necessary to train properly the model, but to evaluate the bound, it won't make a difference\n",
        "\n",
        "p_xgivenz = td.Independent(td.Bernoulli(logits = decoder(z)), reinterpreted_batch_ndims = 1)\n",
        "\n",
        "log_weights = p_xgivenz.log_prob(batch) + p_z.log_prob(z) - q_zgivenx.log_prob(z)\n",
        "\n",
        "iwae_bound = torch.mean(torch.logsumexp(log_weights,0) - torch.log(torch.tensor(K)))\n",
        "print(iwae_bound.detach().numpy())"
      ]
    },
    {
      "cell_type": "markdown",
      "metadata": {
        "id": "kpRs8tDQoSU2"
      },
      "source": [
        "# Training"
      ]
    },
    {
      "cell_type": "markdown",
      "metadata": {
        "id": "6CaVsjr-oSU3"
      },
      "source": [
        "We are now in position to train our model. Here, if you have a GPU, it might be worth using it. I have a mac, so I'm using the \"MPS\" device, and putting encoder/decoder/prior on it."
      ]
    },
    {
      "cell_type": "code",
      "execution_count": 17,
      "metadata": {
        "id": "B1QpGpOUoSU3"
      },
      "outputs": [],
      "source": [
        "device = torch.device(\"cuda\")\n",
        "decoder.to(device)\n",
        "encoder.to(device)\n",
        "p_z = td.Independent(td.Normal(loc = torch.zeros(d,  device= device), scale = torch.ones(d, device= device)),reinterpreted_batch_ndims=1)  # that's the prior"
      ]
    },
    {
      "cell_type": "markdown",
      "metadata": {
        "id": "c-Ukc5luoSU3"
      },
      "source": [
        "Now, I define my optimizer and dataloader."
      ]
    },
    {
      "cell_type": "code",
      "execution_count": 18,
      "metadata": {
        "id": "v1bXi7kIoSU4"
      },
      "outputs": [],
      "source": [
        "all_parameters = list(encoder.parameters()) + list(decoder.parameters())"
      ]
    },
    {
      "cell_type": "code",
      "execution_count": 19,
      "metadata": {
        "id": "Wb81EptYoSU4"
      },
      "outputs": [],
      "source": [
        "optimizer = torch.optim.Adam(all_parameters, lr=0.0002)"
      ]
    },
    {
      "cell_type": "code",
      "execution_count": 20,
      "metadata": {
        "id": "R_lmzV4UoSU4"
      },
      "outputs": [],
      "source": [
        "data_loader = torch.utils.data.DataLoader(xtrain, batch_size = 512) # use a smaller batch size if you run out of memory"
      ]
    },
    {
      "cell_type": "markdown",
      "metadata": {
        "id": "H4HC5enxoSU4"
      },
      "source": [
        "We can finally train our IWAE. We'll just do a standard pytorch training loop."
      ]
    },
    {
      "cell_type": "code",
      "execution_count": 21,
      "metadata": {
        "id": "XawVpX2JoSU9"
      },
      "outputs": [],
      "source": [
        "epochs = 100\n",
        "\n",
        "total_steps_progress_bar = len(data_loader)*epochs\n"
      ]
    },
    {
      "cell_type": "code",
      "execution_count": 26,
      "metadata": {
        "colab": {
          "base_uri": "https://localhost:8080/",
          "height": 49,
          "referenced_widgets": [
            "ae41e48b1c34428f97b53403861907df",
            "572798689e0744f28c0def51e4c90524",
            "fa919238f67a464bb3414681b4107b4f",
            "84f03132a66848ffa214b41b8fc6a97f",
            "c09c408fd94d400f9803eecd241d3f97",
            "1aa18542c5964935b0cf67f7aa4681f9",
            "cb1910014af448d0a67ef194617bfac1",
            "a3a717b6a62746f19ad8e5292b20e737",
            "f79b1319ba2a4283810df66f69b35ec2",
            "3070ab82053c431e9f45a4a89298b9be",
            "4f8694c413b545fa9a5299ecf1c7237c"
          ]
        },
        "id": "H8iu5P9KoSU-",
        "outputId": "5e07df39-df88-4d5f-a099-e5575e7d295b"
      },
      "outputs": [
        {
          "output_type": "display_data",
          "data": {
            "text/plain": [
              "Training:   0%|          | 0/9800 [00:00<?, ?it/s]"
            ],
            "application/vnd.jupyter.widget-view+json": {
              "version_major": 2,
              "version_minor": 0,
              "model_id": "ae41e48b1c34428f97b53403861907df"
            }
          },
          "metadata": {}
        }
      ],
      "source": [
        "progress_bar = tqdm(range(total_steps_progress_bar), desc=\"Training\")\n",
        "K=10\n",
        "for epoch in range(epochs):\n",
        "        data_iter = iter(data_loader)\n",
        "        for batch in data_iter:\n",
        "            batch = batch.to(device)\n",
        "            optimizer.zero_grad()\n",
        "\n",
        "            encoded_batch = encoder(batch)\n",
        "            mu_q = encoded_batch[:,:d]\n",
        "            sigma_q = nn.Softplus()(encoded_batch[:,d:])\n",
        "            q_zgivenx = td.Independent(td.Normal(loc = mu_q, scale = sigma_q) ,reinterpreted_batch_ndims=1)\n",
        "            z = q_zgivenx.rsample((K,))\n",
        "            p_xgivenz = td.Independent(td.Bernoulli(logits = decoder(z)), reinterpreted_batch_ndims = 1)\n",
        "            log_weights = p_xgivenz.log_prob(batch) + p_z.log_prob(z) - q_zgivenx.log_prob(z)\n",
        "\n",
        "            iwae_bound = torch.mean(torch.logsumexp(log_weights,0)) - torch.log(torch.tensor(K))\n",
        "\n",
        "            loss = - iwae_bound\n",
        "            loss.backward()\n",
        "            optimizer.step()\n",
        "\n",
        "            # Update progress bar\n",
        "            progress_bar.set_postfix(loss=f\"⠀{loss.item():12.4f}\", epoch=f\"{epoch+1}/{epochs}\")\n",
        "            progress_bar.update()"
      ]
    },
    {
      "cell_type": "markdown",
      "metadata": {
        "id": "VCgnJZvJoSU-"
      },
      "source": [
        "Let's now use this trained model to sample new images!"
      ]
    },
    {
      "cell_type": "code",
      "execution_count": 33,
      "metadata": {
        "id": "TqtcVsvMoSU-"
      },
      "outputs": [],
      "source": [
        "z_samples = p_z.sample((5,))\n",
        "p_xgivenz = td.Independent(td.Bernoulli(logits = decoder(z_samples)), reinterpreted_batch_ndims = 1)\n",
        "x_samples = p_xgivenz.sample((1,))"
      ]
    },
    {
      "cell_type": "code",
      "execution_count": 34,
      "metadata": {
        "colab": {
          "base_uri": "https://localhost:8080/",
          "height": 406
        },
        "id": "emtNVgJioSU-",
        "outputId": "fa3b5a97-e846-489f-95a1-844cefa2861e"
      },
      "outputs": [
        {
          "output_type": "display_data",
          "data": {
            "text/plain": [
              "<Figure size 640x480 with 1 Axes>"
            ],
            "image/png": "[encoded data removed]"
          },
          "metadata": {}
        }
      ],
      "source": [
        "plt.imshow(x_samples.cpu().numpy().reshape((28*5,28)), cmap='gray')\n",
        "plt.axis('off')\n",
        "plt.show()"
      ]
    }
  ],
  "metadata": {
    "accelerator": "GPU",
    "colab": {
      "provenance": []
    },
    "kernelspec": {
      "display_name": "Python 3 (ipykernel)",
      "language": "python",
      "name": "python3"
    },
    "language_info": {
      "codemirror_mode": {
        "name": "ipython",
        "version": 3
      },
      "file_extension": ".py",
      "mimetype": "text/x-python",
      "name": "python",
      "nbconvert_exporter": "python",
      "pygments_lexer": "ipython3",
      "version": "3.9.19"
    },
    "widgets": {
      "application/vnd.jupyter.widget-state+json": {
        "ae41e48b1c34428f97b53403861907df": {
          "model_module": "@jupyter-widgets/controls",
          "model_name": "HBoxModel",
          "model_module_version": "1.5.0",
          "state": {
            "_dom_classes": [],
            "_model_module": "@jupyter-widgets/controls",
            "_model_module_version": "1.5.0",
            "_model_name": "HBoxModel",
            "_view_count": null,
            "_view_module": "@jupyter-widgets/controls",
            "_view_module_version": "1.5.0",
            "_view_name": "HBoxView",
            "box_style": "",
            "children": [
              "IPY_MODEL_572798689e0744f28c0def51e4c90524",
              "IPY_MODEL_fa919238f67a464bb3414681b4107b4f",
              "IPY_MODEL_84f03132a66848ffa214b41b8fc6a97f"
            ],
            "layout": "IPY_MODEL_c09c408fd94d400f9803eecd241d3f97"
          }
        },
        "572798689e0744f28c0def51e4c90524": {
          "model_module": "@jupyter-widgets/controls",
          "model_name": "HTMLModel",
          "model_module_version": "1.5.0",
          "state": {
            "_dom_classes": [],
            "_model_module": "@jupyter-widgets/controls",
            "_model_module_version": "1.5.0",
            "_model_name": "HTMLModel",
            "_view_count": null,
            "_view_module": "@jupyter-widgets/controls",
            "_view_module_version": "1.5.0",
            "_view_name": "HTMLView",
            "description": "",
            "description_tooltip": null,
            "layout": "IPY_MODEL_1aa18542c5964935b0cf67f7aa4681f9",
            "placeholder": "​",
            "style": "IPY_MODEL_cb1910014af448d0a67ef194617bfac1",
            "value": "Training: 100%"
          }
        },
        "fa919238f67a464bb3414681b4107b4f": {
          "model_module": "@jupyter-widgets/controls",
          "model_name": "FloatProgressModel",
          "model_module_version": "1.5.0",
          "state": {
            "_dom_classes": [],
            "_model_module": "@jupyter-widgets/controls",
            "_model_module_version": "1.5.0",
            "_model_name": "FloatProgressModel",
            "_view_count": null,
            "_view_module": "@jupyter-widgets/controls",
            "_view_module_version": "1.5.0",
            "_view_name": "ProgressView",
            "bar_style": "",
            "description": "",
            "description_tooltip": null,
            "layout": "IPY_MODEL_a3a717b6a62746f19ad8e5292b20e737",
            "max": 9800,
            "min": 0,
            "orientation": "horizontal",
            "style": "IPY_MODEL_f79b1319ba2a4283810df66f69b35ec2",
            "value": 9800
          }
        },
        "84f03132a66848ffa214b41b8fc6a97f": {
          "model_module": "@jupyter-widgets/controls",
          "model_name": "HTMLModel",
          "model_module_version": "1.5.0",
          "state": {
            "_dom_classes": [],
            "_model_module": "@jupyter-widgets/controls",
            "_model_module_version": "1.5.0",
            "_model_name": "HTMLModel",
            "_view_count": null,
            "_view_module": "@jupyter-widgets/controls",
            "_view_module_version": "1.5.0",
            "_view_name": "HTMLView",
            "description": "",
            "description_tooltip": null,
            "layout": "IPY_MODEL_3070ab82053c431e9f45a4a89298b9be",
            "placeholder": "​",
            "style": "IPY_MODEL_4f8694c413b545fa9a5299ecf1c7237c",
            "value": " 9800/9800 [02:30&lt;00:00, 74.38it/s, epoch=100/100, loss=⠀    106.5947]"
          }
        },
        "c09c408fd94d400f9803eecd241d3f97": {
          "model_module": "@jupyter-widgets/base",
          "model_name": "LayoutModel",
          "model_module_version": "1.2.0",
          "state": {
            "_model_module": "@jupyter-widgets/base",
            "_model_module_version": "1.2.0",
            "_model_name": "LayoutModel",
            "_view_count": null,
            "_view_module": "@jupyter-widgets/base",
            "_view_module_version": "1.2.0",
            "_view_name": "LayoutView",
            "align_content": null,
            "align_items": null,
            "align_self": null,
            "border": null,
            "bottom": null,
            "display": null,
            "flex": null,
            "flex_flow": null,
            "grid_area": null,
            "grid_auto_columns": null,
            "grid_auto_flow": null,
            "grid_auto_rows": null,
            "grid_column": null,
            "grid_gap": null,
            "grid_row": null,
            "grid_template_areas": null,
            "grid_template_columns": null,
            "grid_template_rows": null,
            "height": null,
            "justify_content": null,
            "justify_items": null,
            "left": null,
            "margin": null,
            "max_height": null,
            "max_width": null,
            "min_height": null,
            "min_width": null,
            "object_fit": null,
            "object_position": null,
            "order": null,
            "overflow": null,
            "overflow_x": null,
            "overflow_y": null,
            "padding": null,
            "right": null,
            "top": null,
            "visibility": null,
            "width": null
          }
        },
        "1aa18542c5964935b0cf67f7aa4681f9": {
          "model_module": "@jupyter-widgets/base",
          "model_name": "LayoutModel",
          "model_module_version": "1.2.0",
          "state": {
            "_model_module": "@jupyter-widgets/base",
            "_model_module_version": "1.2.0",
            "_model_name": "LayoutModel",
            "_view_count": null,
            "_view_module": "@jupyter-widgets/base",
            "_view_module_version": "1.2.0",
            "_view_name": "LayoutView",
            "align_content": null,
            "align_items": null,
            "align_self": null,
            "border": null,
            "bottom": null,
            "display": null,
            "flex": null,
            "flex_flow": null,
            "grid_area": null,
            "grid_auto_columns": null,
            "grid_auto_flow": null,
            "grid_auto_rows": null,
            "grid_column": null,
            "grid_gap": null,
            "grid_row": null,
            "grid_template_areas": null,
            "grid_template_columns": null,
            "grid_template_rows": null,
            "height": null,
            "justify_content": null,
            "justify_items": null,
            "left": null,
            "margin": null,
            "max_height": null,
            "max_width": null,
            "min_height": null,
            "min_width": null,
            "object_fit": null,
            "object_position": null,
            "order": null,
            "overflow": null,
            "overflow_x": null,
            "overflow_y": null,
            "padding": null,
            "right": null,
            "top": null,
            "visibility": null,
            "width": null
          }
        },
        "cb1910014af448d0a67ef194617bfac1": {
          "model_module": "@jupyter-widgets/controls",
          "model_name": "DescriptionStyleModel",
          "model_module_version": "1.5.0",
          "state": {
            "_model_module": "@jupyter-widgets/controls",
            "_model_module_version": "1.5.0",
            "_model_name": "DescriptionStyleModel",
            "_view_count": null,
            "_view_module": "@jupyter-widgets/base",
            "_view_module_version": "1.2.0",
            "_view_name": "StyleView",
            "description_width": ""
          }
        },
        "a3a717b6a62746f19ad8e5292b20e737": {
          "model_module": "@jupyter-widgets/base",
          "model_name": "LayoutModel",
          "model_module_version": "1.2.0",
          "state": {
            "_model_module": "@jupyter-widgets/base",
            "_model_module_version": "1.2.0",
            "_model_name": "LayoutModel",
            "_view_count": null,
            "_view_module": "@jupyter-widgets/base",
            "_view_module_version": "1.2.0",
            "_view_name": "LayoutView",
            "align_content": null,
            "align_items": null,
            "align_self": null,
            "border": null,
            "bottom": null,
            "display": null,
            "flex": null,
            "flex_flow": null,
            "grid_area": null,
            "grid_auto_columns": null,
            "grid_auto_flow": null,
            "grid_auto_rows": null,
            "grid_column": null,
            "grid_gap": null,
            "grid_row": null,
            "grid_template_areas": null,
            "grid_template_columns": null,
            "grid_template_rows": null,
            "height": null,
            "justify_content": null,
            "justify_items": null,
            "left": null,
            "margin": null,
            "max_height": null,
            "max_width": null,
            "min_height": null,
            "min_width": null,
            "object_fit": null,
            "object_position": null,
            "order": null,
            "overflow": null,
            "overflow_x": null,
            "overflow_y": null,
            "padding": null,
            "right": null,
            "top": null,
            "visibility": null,
            "width": null
          }
        },
        "f79b1319ba2a4283810df66f69b35ec2": {
          "model_module": "@jupyter-widgets/controls",
          "model_name": "ProgressStyleModel",
          "model_module_version": "1.5.0",
          "state": {
            "_model_module": "@jupyter-widgets/controls",
            "_model_module_version": "1.5.0",
            "_model_name": "ProgressStyleModel",
            "_view_count": null,
            "_view_module": "@jupyter-widgets/base",
            "_view_module_version": "1.2.0",
            "_view_name": "StyleView",
            "bar_color": null,
            "description_width": ""
          }
        },
        "3070ab82053c431e9f45a4a89298b9be": {
          "model_module": "@jupyter-widgets/base",
          "model_name": "LayoutModel",
          "model_module_version": "1.2.0",
          "state": {
            "_model_module": "@jupyter-widgets/base",
            "_model_module_version": "1.2.0",
            "_model_name": "LayoutModel",
            "_view_count": null,
            "_view_module": "@jupyter-widgets/base",
            "_view_module_version": "1.2.0",
            "_view_name": "LayoutView",
            "align_content": null,
            "align_items": null,
            "align_self": null,
            "border": null,
            "bottom": null,
            "display": null,
            "flex": null,
            "flex_flow": null,
            "grid_area": null,
            "grid_auto_columns": null,
            "grid_auto_flow": null,
            "grid_auto_rows": null,
            "grid_column": null,
            "grid_gap": null,
            "grid_row": null,
            "grid_template_areas": null,
            "grid_template_columns": null,
            "grid_template_rows": null,
            "height": null,
            "justify_content": null,
            "justify_items": null,
            "left": null,
            "margin": null,
            "max_height": null,
            "max_width": null,
            "min_height": null,
            "min_width": null,
            "object_fit": null,
            "object_position": null,
            "order": null,
            "overflow": null,
            "overflow_x": null,
            "overflow_y": null,
            "padding": null,
            "right": null,
            "top": null,
            "visibility": null,
            "width": null
          }
        },
        "4f8694c413b545fa9a5299ecf1c7237c": {
          "model_module": "@jupyter-widgets/controls",
          "model_name": "DescriptionStyleModel",
          "model_module_version": "1.5.0",
          "state": {
            "_model_module": "@jupyter-widgets/controls",
            "_model_module_version": "1.5.0",
            "_model_name": "DescriptionStyleModel",
            "_view_count": null,
            "_view_module": "@jupyter-widgets/base",
            "_view_module_version": "1.2.0",
            "_view_name": "StyleView",
            "description_width": ""
          }
        }
      }
    }
  },
  "nbformat": 4,
  "nbformat_minor": 0
}